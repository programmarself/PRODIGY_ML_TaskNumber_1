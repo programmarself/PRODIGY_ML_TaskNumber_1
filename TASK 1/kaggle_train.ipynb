{
 "cells": [
  {
   "cell_type": "code",
   "execution_count": null,
   "metadata": {},
   "outputs": [],
   "source": [
    "import pandas as pd\n",
    "\n",
    "TEST_PATH = './data/Genre Classification Dataset/test_data_solution.txt' \n",
    "# ID ::: TITLE ::: GENRE ::: DESCRIPTION\n",
    "TRAIN_PATH = './data/Genre Classification Dataset/train_data.txt'"
   ]
  },
  {
   "cell_type": "code",
   "execution_count": null,
   "metadata": {},
   "outputs": [],
   "source": [
    "# Read the data\n",
    "train = pd.read_csv(TRAIN_PATH, sep=':::', names=['id', 'title', 'genre', 'description'], engine='python')\n",
    "test = pd.read_csv(TEST_PATH, sep=':::', names=['id', 'title', 'genre', 'description'], engine='python')\n",
    "\n",
    "from sklearn.model_selection import train_test_split\n",
    "\n",
    "# Encode the labels and save the mapping\n",
    "genre_map = {genre: i for i, genre in enumerate(train['genre'].unique())}\n",
    "train['genre'] = train['genre'].factorize()[0].astype('int')\n",
    "\n",
    "# Split the data into train and validation\n",
    "train, val = train_test_split(train, test_size=0.2, random_state=42, stratify=train['genre'])"
   ]
  },
  {
   "cell_type": "code",
   "execution_count": null,
   "metadata": {},
   "outputs": [],
   "source": [
    "# Train the pre-trained model on the train data using transformers library \n",
    "from transformers import AutoTokenizer, AutoModelForSequenceClassification, Trainer, TrainingArguments\n",
    "num_labels = train['genre'].nunique()\n",
    "# Load the tokenizer and the model\n",
    "tokenizer = AutoTokenizer.from_pretrained('bert-base-uncased')\n",
    "model = AutoModelForSequenceClassification.from_pretrained('bert-base-uncased', num_labels=num_labels)\n",
    "\n",
    "# Tokenize the data\n",
    "train_encodings = tokenizer(train['description'].tolist(), truncation=True, padding=True)\n",
    "val_encodings = tokenizer(val['description'].tolist(), truncation=True, padding=True)\n",
    "test_encodings = tokenizer(test['description'].tolist(), truncation=True, padding=True)\n",
    "\n",
    "# Create the dataset\n",
    "import torch\n",
    "import os\n",
    "\n",
    "class GenreDataset(torch.utils.data.Dataset):\n",
    "    def __init__(self, encodings, labels):\n",
    "        self.encodings = encodings\n",
    "        self.labels = labels\n",
    "    \n",
    "    def __getitem__(self, idx):\n",
    "        item = {key: torch.tensor(val[idx]) for key, val in self.encodings.items()}\n",
    "        item['labels'] = torch.tensor(self.labels[idx])\n",
    "        return item\n",
    "    \n",
    "    def __len__(self):\n",
    "        return len(self.labels)\n",
    "\n",
    "train_dataset = GenreDataset(train_encodings, train['genre'].tolist())\n",
    "val_dataset = GenreDataset(val_encodings, val['genre'].tolist())\n",
    "test_dataset = GenreDataset(test_encodings, test['genre'].tolist())\n",
    "\n",
    "# Train the model\n",
    "training_args = TrainingArguments(\n",
    "    output_dir='./results',          # output directory\n",
    "    num_train_epochs=3,              # total # of training epochs\n",
    "    per_device_train_batch_size=16,  # batch size per device during training\n",
    "    per_device_eval_batch_size=64,   # batch size for evaluation\n",
    "    warmup_steps=500,                # number of warmup steps for learning rate scheduler\n",
    "    weight_decay=0.01,               # strength of weight decay\n",
    "    logging_dir='./logs',            # directory for storing logs\n",
    "    logging_steps=10,\n",
    ")\n",
    "\n",
    "trainer = Trainer(\n",
    "    model=model,                         # the instantiated 🤗 Transformers model to be trained\n",
    "    args=training_args,                  # training arguments, defined above\n",
    "    train_dataset=train_dataset,         # training dataset\n",
    "    eval_dataset=val_dataset             # evaluation dataset\n",
    ")\n",
    "\n",
    "trainer.train()\n"
   ]
  },
  {
   "cell_type": "code",
   "execution_count": null,
   "metadata": {},
   "outputs": [],
   "source": [
    "# Evaluate the model\n",
    "trainer.evaluate()"
   ]
  }
 ],
 "metadata": {
  "kernelspec": {
   "display_name": "venv",
   "language": "python",
   "name": "python3"
  },
  "language_info": {
   "codemirror_mode": {
    "name": "ipython",
    "version": 3
   },
   "file_extension": ".py",
   "mimetype": "text/x-python",
   "name": "python",
   "nbconvert_exporter": "python",
   "pygments_lexer": "ipython3",
   "version": "3.9.15 (main, Oct 11 2022, 22:27:25) \n[Clang 14.0.0 (clang-1400.0.29.102)]"
  },
  "orig_nbformat": 4,
  "vscode": {
   "interpreter": {
    "hash": "c5207ace3ef1bc29e8da7fd90c10077a0d054d2756ecb5788c905b459a83b9eb"
   }
  }
 },
 "nbformat": 4,
 "nbformat_minor": 2
}
